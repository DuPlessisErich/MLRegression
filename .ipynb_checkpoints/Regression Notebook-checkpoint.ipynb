{
 "cells": [
  {
   "cell_type": "markdown",
   "id": "3ea37460-6a6d-4dd3-9db5-76abce23d192",
   "metadata": {},
   "source": [
    "# EDSA Regression Project\n",
    "\n",
    "### Project Title: Average Temperatures Regression Model - Training and Testing.\n",
    "#### Done By: Erich du Plessis\n",
    "\n",
    "© ExploreAI 2024\n",
    "\n",
    "---\n",
    "\n",
    "## Table of Contents\n",
    "\n",
    "<a id=\"cont\"></a>\n",
    "\n",
    "<a href=#INT>1. Introduction</a>\n",
    "\n",
    "<a href=#packages>2. Importing Packages</a>\n",
    "\n",
    "<a href=#Data>3. Loading Data </a>\n",
    "\n",
    "<a href=#Cleaning>4. Data Cleaning and Pre-Processing</a>\n",
    "\n",
    "<a href=#EDA>5. Exploratory Data Analysis (EDA)</a>\n",
    "\n",
    "<a href=#Feature>6. Feature Engineering</a>\n",
    "\n",
    "<a href=#Model>7. Model Training and Testing </a>"
   ]
  },
  {
   "cell_type": "markdown",
   "id": "3561f7b7-d289-4e33-985e-711c502966f4",
   "metadata": {},
   "source": [
    "---\n",
    " <a id=\"BC\"></a>\n",
    "## **Introduction**\n",
    "<a href=#cont>Back to Table of Contents</a>\n",
    "\n",
    "---"
   ]
  },
  {
   "cell_type": "markdown",
   "id": "66fd362e-e61c-4112-b984-6a961a35c227",
   "metadata": {},
   "source": [
    "---\n",
    " <a id=\"packages\"></a>\n",
    "## **Importing Packages**\n",
    "<a href=#cont>Back to Table of Contents</a>\n",
    "\n",
    "---"
   ]
  },
  {
   "cell_type": "markdown",
   "id": "b3e1fe28-ef0b-47d4-a819-b50d2b787c5d",
   "metadata": {},
   "source": [
    "---\n",
    " <a id=\"Data\"></a>\n",
    "## **Loading Data**\n",
    "<a href=#cont>Back to Table of Contents</a>\n",
    "\n",
    "---"
   ]
  },
  {
   "cell_type": "markdown",
   "id": "8d0e7d72-6a23-46d5-b6d3-d789f1b2174d",
   "metadata": {},
   "source": [
    "---\n",
    " <a id=\"Cleaning\"></a>\n",
    "## **Data Cleaning and Pre-Processing**\n",
    "<a href=#cont>Back to Table of Contents</a>\n",
    "\n",
    "---"
   ]
  },
  {
   "cell_type": "markdown",
   "id": "053490bf-3caa-4774-a90b-6075b4d92d74",
   "metadata": {},
   "source": [
    "---\n",
    " <a id=\"EDA\"></a>\n",
    "## **Exploratory Data Analysis**\n",
    "<a href=#cont>Back to Table of Contents</a>\n",
    "\n",
    "---"
   ]
  },
  {
   "cell_type": "markdown",
   "id": "e7cd965a-0506-4b84-adcb-2b337a6b16c3",
   "metadata": {},
   "source": [
    "---\n",
    " <a id=\"Feature\"></a>\n",
    "## **Feature Engineering**\n",
    "<a href=#cont>Back to Table of Contents</a>\n",
    "\n",
    "---"
   ]
  },
  {
   "cell_type": "markdown",
   "id": "8895e348-97c3-43d3-b882-64de5a887cf6",
   "metadata": {},
   "source": [
    "---\n",
    " <a id=\"Model\"></a>\n",
    "## **Model Training and Testing**\n",
    "<a href=#cont>Back to Table of Contents</a>\n",
    "\n",
    "---"
   ]
  }
 ],
 "metadata": {
  "kernelspec": {
   "display_name": "Python 3 (ipykernel)",
   "language": "python",
   "name": "python3"
  },
  "language_info": {
   "codemirror_mode": {
    "name": "ipython",
    "version": 3
   },
   "file_extension": ".py",
   "mimetype": "text/x-python",
   "name": "python",
   "nbconvert_exporter": "python",
   "pygments_lexer": "ipython3",
   "version": "3.12.4"
  }
 },
 "nbformat": 4,
 "nbformat_minor": 5
}
